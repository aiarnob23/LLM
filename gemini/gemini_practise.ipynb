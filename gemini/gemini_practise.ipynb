{
 "cells": [
  {
   "cell_type": "code",
   "execution_count": 18,
   "id": "5113af60-ed53-4e33-ab47-3056eb9517d4",
   "metadata": {},
   "outputs": [
    {
     "name": "stdout",
     "output_type": "stream",
     "text": [
      "Note: you may need to restart the kernel to use updated packages.\n"
     ]
    }
   ],
   "source": [
    "pip install -q -U google-genai"
   ]
  },
  {
   "cell_type": "code",
   "execution_count": 19,
   "id": "97d11ace-ceac-46b8-be84-542ea49530e0",
   "metadata": {},
   "outputs": [],
   "source": [
    "from google import genai\n",
    "client = genai.Client(api_key=\"****************)\n",
    "model = \"gemini-2.5-flash\""
   ]
  },
  {
   "cell_type": "code",
   "execution_count": 20,
   "id": "e2298b53-56d6-40b2-b78e-8e023148ab37",
   "metadata": {},
   "outputs": [],
   "source": [
    "def   gemini_response(question):\n",
    "    response = client.models.generate_content(\n",
    "        model=model,\n",
    "        contents=question,\n",
    "    )\n",
    "    return response.text"
   ]
  },
  {
   "cell_type": "code",
   "execution_count": 14,
   "id": "76d0d098-0b2d-4645-a802-11003e529bf7",
   "metadata": {},
   "outputs": [
    {
     "name": "stdout",
     "output_type": "stream",
     "text": [
      "As a text-based AI, I can't directly display images here.\n",
      "\n",
      "However, I can *describe* one for you in detail, or even give you a prompt you could use with an image-generating AI!\n",
      "\n",
      "**Here's a description of a little boy:**\n",
      "\n",
      "\"Imagine a cheerful little boy, perhaps around 4 or 5 years old, with bright, curious brown eyes and a wide, dimpled smile. His sandy blonde hair is slightly tousled, perhaps from playing. He's wearing a bright blue t-shirt with a playful animal design and comfortable khaki shorts, his knees a little scuffed. He might be holding a small, colorful toy car or looking directly at you with an innocent, playful expression. The setting could be a softly blurred, sunny park in the background.\"\n",
      "\n",
      "Would you like me to describe something more specific, or give you a prompt for an image AI?\n"
     ]
    }
   ],
   "source": [
    "reply = gemini_response(\"can u give me an image of a little boy?\")\n",
    "print(reply)"
   ]
  },
  {
   "cell_type": "code",
   "execution_count": 16,
   "id": "70b14628-da5e-4e05-8457-484ba402bb43",
   "metadata": {},
   "outputs": [
    {
     "name": "stdout",
     "output_type": "stream",
     "text": [
      "Collecting Pillow\n",
      "  Downloading pillow-11.2.1-cp310-cp310-win_amd64.whl.metadata (9.1 kB)\n",
      "Downloading pillow-11.2.1-cp310-cp310-win_amd64.whl (2.7 MB)\n",
      "   ---------------------------------------- 0.0/2.7 MB ? eta -:--:--\n",
      "   ---------------------------------------- 0.0/2.7 MB ? eta -:--:--\n",
      "   --- ------------------------------------ 0.3/2.7 MB ? eta -:--:--\n",
      "   ------- -------------------------------- 0.5/2.7 MB 1.2 MB/s eta 0:00:02\n",
      "   ----------- ---------------------------- 0.8/2.7 MB 1.2 MB/s eta 0:00:02\n",
      "   --------------- ------------------------ 1.0/2.7 MB 1.2 MB/s eta 0:00:02\n",
      "   ------------------- -------------------- 1.3/2.7 MB 1.1 MB/s eta 0:00:02\n",
      "   ------------------- -------------------- 1.3/2.7 MB 1.1 MB/s eta 0:00:02\n",
      "   ------------------- -------------------- 1.3/2.7 MB 1.1 MB/s eta 0:00:02\n",
      "   ----------------------- ---------------- 1.6/2.7 MB 883.2 kB/s eta 0:00:02\n",
      "   ----------------------- ---------------- 1.6/2.7 MB 883.2 kB/s eta 0:00:02\n",
      "   --------------------------- ------------ 1.8/2.7 MB 868.0 kB/s eta 0:00:01\n",
      "   --------------------------- ------------ 1.8/2.7 MB 868.0 kB/s eta 0:00:01\n",
      "   --------------------------- ------------ 1.8/2.7 MB 868.0 kB/s eta 0:00:01\n",
      "   ------------------------------- -------- 2.1/2.7 MB 743.2 kB/s eta 0:00:01\n",
      "   ------------------------------- -------- 2.1/2.7 MB 743.2 kB/s eta 0:00:01\n",
      "   ----------------------------------- ---- 2.4/2.7 MB 717.7 kB/s eta 0:00:01\n",
      "   ----------------------------------- ---- 2.4/2.7 MB 717.7 kB/s eta 0:00:01\n",
      "   ---------------------------------------  2.6/2.7 MB 699.0 kB/s eta 0:00:01\n",
      "   ---------------------------------------- 2.7/2.7 MB 699.1 kB/s eta 0:00:00\n",
      "Installing collected packages: Pillow\n",
      "Successfully installed Pillow-11.2.1\n",
      "Note: you may need to restart the kernel to use updated packages.\n"
     ]
    }
   ],
   "source": [
    "pip install Pillow"
   ]
  },
  {
   "cell_type": "code",
   "execution_count": 21,
   "id": "bbd1fed8-4a0b-4a07-a7e2-a4fd639bd6bc",
   "metadata": {},
   "outputs": [
    {
     "name": "stdout",
     "output_type": "stream",
     "text": [
      "I will create a 3D rendering of a whimsical scene: a pink pig with small, delicate white wings gracefully soars above a vibrant, futuristic cityscape. The pig will be wearing a stylish black top hat perched jauntily on its head. Below, the sci-fi city will feature sleek, modern buildings interspersed with lush green spaces, creating a cheerful and utopian atmosphere.\n",
      "\n",
      "\n"
     ]
    }
   ],
   "source": [
    "###text to image###\n",
    "from google.genai import types\n",
    "from PIL import Image\n",
    "from io import BytesIO\n",
    "import base64\n",
    "\n",
    "contents = ('Hi, can you create a 3d rendered image of a pig '\n",
    "            'with wings and a top hat flying over a happy '\n",
    "            'futuristic scifi city with lots of greenery?')\n",
    "\n",
    "response = client.models.generate_content(\n",
    "    model=\"gemini-2.0-flash-preview-image-generation\",\n",
    "    contents=contents,\n",
    "    config=types.GenerateContentConfig(\n",
    "      response_modalities=['TEXT', 'IMAGE']\n",
    "    )\n",
    ")\n",
    "\n",
    "for part in response.candidates[0].content.parts:\n",
    "  if part.text is not None:\n",
    "    print(part.text)\n",
    "  elif part.inline_data is not None:\n",
    "    image = Image.open(BytesIO((part.inline_data.data)))\n",
    "    image.save('gemini-native-image.png')\n",
    "    image.show()"
   ]
  },
  {
   "cell_type": "code",
   "execution_count": null,
   "id": "aa380783-d094-4957-9bbd-c4d4c189662a",
   "metadata": {},
   "outputs": [],
   "source": [
    "###text to video###\n",
    "import time\n",
    "from google import genai\n",
    "from google.genai import types\n",
    "\n",
    "client = genai.Client()  # read API key from GOOGLE_API_KEY\n",
    "\n",
    "operation = client.models.generate_videos(\n",
    "    model=\"veo-2.0-generate-001\",\n",
    "    prompt=\"Panning wide shot of a calico kitten sleeping in the sunshine\",\n",
    "    config=types.GenerateVideosConfig(\n",
    "        person_generation=\"dont_allow\",  # \"dont_allow\" or \"allow_adult\"\n",
    "        aspect_ratio=\"16:9\",  # \"16:9\" or \"9:16\"\n",
    "    ),\n",
    ")\n",
    "\n",
    "while not operation.done:\n",
    "    time.sleep(20)\n",
    "    operation = client.operations.get(operation)\n",
    "\n",
    "for n, generated_video in enumerate(operation.response.generated_videos):\n",
    "    client.files.download(file=generated_video.video)\n",
    "    generated_video.video.save(f\"video{n}.mp4\")  # save the video\n"
   ]
  },
  {
   "cell_type": "code",
   "execution_count": 23,
   "id": "2e82a623-3b63-4218-8faf-89879d06d543",
   "metadata": {},
   "outputs": [],
   "source": [
    "###text to audio###\n",
    "from google.genai import types\n",
    "import wave\n",
    "\n",
    "def wave_file(filename, pcm, channels=1, rate=24000, sample_width=2):\n",
    "   with wave.open(filename, \"wb\") as wf:\n",
    "      wf.setnchannels(channels)\n",
    "      wf.setsampwidth(sample_width)\n",
    "      wf.setframerate(rate)\n",
    "      wf.writeframes(pcm)\n",
    "\n",
    "response = client.models.generate_content(\n",
    "   model=\"gemini-2.5-flash-preview-tts\",\n",
    "   contents=\"Say cheerfully: Have a wonderful day!\",\n",
    "   config=types.GenerateContentConfig(\n",
    "      response_modalities=[\"AUDIO\"],\n",
    "      speech_config=types.SpeechConfig(\n",
    "         voice_config=types.VoiceConfig(\n",
    "            prebuilt_voice_config=types.PrebuiltVoiceConfig(\n",
    "               voice_name='Kore',\n",
    "            )\n",
    "         )\n",
    "      ),\n",
    "   )\n",
    ")\n",
    "\n",
    "data = response.candidates[0].content.parts[0].inline_data.data\n",
    "\n",
    "file_name='out.wav'\n",
    "wave_file(file_name, data) # Saves the file to current directory"
   ]
  },
  {
   "cell_type": "code",
   "execution_count": 24,
   "id": "69c942ac-11c3-416a-a973-4caba191bf77",
   "metadata": {},
   "outputs": [
    {
     "name": "stdout",
     "output_type": "stream",
     "text": [
      "The first recipe, \"How to Make Hard Boiled Eggs,\" from Love and Lemons, focuses on a basic cooking technique to achieve perfectly hard-boiled eggs with vibrant yellow yolks that are easy to peel. The method involves placing eggs in a pot, covering them with cold water, bringing to a rolling boil, then turning off the heat, covering, and letting them sit for 10-12 minutes. A crucial step for easy peeling and to stop the cooking process is transferring the eggs to an ice bath for at least 14 minutes. The recipe also offers tips like using older eggs for easier peeling and storing raw eggs upside down for centered yolks.\n",
      "\n",
      "In contrast, the \"Indian Chicken Curry\" recipe from Allrecipes is for a flavorful main dish featuring chicken stewed in a creamy, spiced, tomato-based sauce. This recipe calls for ingredients such as olive oil, onion, garlic, curry powder, cinnamon, paprika, bay leaf, ginger, sugar, salt, chicken breast, tomato paste, plain yogurt, coconut milk, lemon juice, and cayenne pepper. The preparation involves sautéing onions, stirring in spices, adding chicken, tomato paste, yogurt, and coconut milk, then simmering until cooked. The recipe suggests serving the curry with basmati rice and naan.\n",
      "\n",
      "Comparing the two, they are fundamentally different types of recipes: one is a foundational technique for preparing eggs, while the other is a complete, aromatic Indian main course. Their ingredients, cooking methods, and end uses are entirely distinct.\n",
      "url_metadata=[UrlMetadata(retrieved_url='https://www.loveandlemons.com/how-to-make-hard-boiled-eggs/', url_retrieval_status=<UrlRetrievalStatus.URL_RETRIEVAL_STATUS_SUCCESS: 'URL_RETRIEVAL_STATUS_SUCCESS'>), UrlMetadata(retrieved_url='https://www.allrecipes.com/recipe/46822/indian-chicken-curry-ii/', url_retrieval_status=<UrlRetrievalStatus.URL_RETRIEVAL_STATUS_SUCCESS: 'URL_RETRIEVAL_STATUS_SUCCESS'>)]\n"
     ]
    }
   ],
   "source": [
    "###url understanding###\n",
    "from google.genai.types import Tool, GenerateContentConfig, GoogleSearch\n",
    "\n",
    "model_id = \"gemini-2.5-flash\"\n",
    "\n",
    "url_context_tool = Tool(\n",
    "    url_context = types.UrlContext\n",
    ")\n",
    "\n",
    "response = client.models.generate_content(\n",
    "    model=model_id,\n",
    "    contents=\"Compare recipes from https://www.loveandlemons.com/how-to-make-hard-boiled-eggs/ and https://www.allrecipes.com/recipe/46822/indian-chicken-curry-ii/\",\n",
    "    config=GenerateContentConfig(\n",
    "        tools=[url_context_tool],\n",
    "        response_modalities=[\"TEXT\"],\n",
    "    )\n",
    ")\n",
    "\n",
    "for each in response.candidates[0].content.parts:\n",
    "    print(each.text)\n",
    "# get URLs retrieved for context\n",
    "print(response.candidates[0].url_context_metadata)\n"
   ]
  },
  {
   "cell_type": "code",
   "execution_count": 28,
   "id": "deb952fa-cd18-4f6a-b7c0-c7c61c848076",
   "metadata": {},
   "outputs": [
    {
     "name": "stdout",
     "output_type": "stream",
     "text": [
      "Requirement already satisfied: beautifulsoup4 in c:\\users\\user\\.conda\\envs\\newenv\\lib\\site-packages (4.12.3)\n",
      "Requirement already satisfied: soupsieve>1.2 in c:\\users\\user\\.conda\\envs\\newenv\\lib\\site-packages (from beautifulsoup4) (2.5)\n",
      "Note: you may need to restart the kernel to use updated packages.\n"
     ]
    }
   ],
   "source": [
    "%pip install beautifulsoup4"
   ]
  },
  {
   "cell_type": "code",
   "execution_count": 38,
   "id": "264665a2-fe26-43ad-a7f9-91e6076725e8",
   "metadata": {},
   "outputs": [
    {
     "name": "stdout",
     "output_type": "stream",
     "text": [
      "The next total solar eclipse visible in Switzerland will occur on September 3, 2081. While partial solar eclipses will be visible in Switzerland before this date, such as on August 12, 2026, and August 2, 2027, the path of totality for these eclipses will cross other parts of Europe, including Spain and Iceland.\n",
      "<style>\n",
      ".container {\n",
      "  align-items: center;\n",
      "  border-radius: 8px;\n",
      "  display: flex;\n",
      "  font-family: Google Sans, Roboto, sans-serif;\n",
      "  font-size: 14px;\n",
      "  line-height: 20px;\n",
      "  padding: 8px 12px;\n",
      "}\n",
      ".chip {\n",
      "  display: inline-block;\n",
      "  border: solid 1px;\n",
      "  border-radius: 16px;\n",
      "  min-width: 14px;\n",
      "  padding: 5px 16px;\n",
      "  text-align: center;\n",
      "  user-select: none;\n",
      "  margin: 0 8px;\n",
      "  -webkit-tap-highlight-color: transparent;\n",
      "}\n",
      ".carousel {\n",
      "  overflow: auto;\n",
      "  scrollbar-width: none;\n",
      "  white-space: nowrap;\n",
      "  margin-right: -12px;\n",
      "}\n",
      ".headline {\n",
      "  display: flex;\n",
      "  margin-right: 4px;\n",
      "}\n",
      ".gradient-container {\n",
      "  position: relative;\n",
      "}\n",
      ".gradient {\n",
      "  position: absolute;\n",
      "  transform: translate(3px, -9px);\n",
      "  height: 36px;\n",
      "  width: 9px;\n",
      "}\n",
      "@media (prefers-color-scheme: light) {\n",
      "  .container {\n",
      "    background-color: #fafafa;\n",
      "    box-shadow: 0 0 0 1px #0000000f;\n",
      "  }\n",
      "  .headline-label {\n",
      "    color: #1f1f1f;\n",
      "  }\n",
      "  .chip {\n",
      "    background-color: #ffffff;\n",
      "    border-color: #d2d2d2;\n",
      "    color: #5e5e5e;\n",
      "    text-decoration: none;\n",
      "  }\n",
      "  .chip:hover {\n",
      "    background-color: #f2f2f2;\n",
      "  }\n",
      "  .chip:focus {\n",
      "    background-color: #f2f2f2;\n",
      "  }\n",
      "  .chip:active {\n",
      "    background-color: #d8d8d8;\n",
      "    border-color: #b6b6b6;\n",
      "  }\n",
      "  .logo-dark {\n",
      "    display: none;\n",
      "  }\n",
      "  .gradient {\n",
      "    background: linear-gradient(90deg, #fafafa 15%, #fafafa00 100%);\n",
      "  }\n",
      "}\n",
      "@media (prefers-color-scheme: dark) {\n",
      "  .container {\n",
      "    background-color: #1f1f1f;\n",
      "    box-shadow: 0 0 0 1px #ffffff26;\n",
      "  }\n",
      "  .headline-label {\n",
      "    color: #fff;\n",
      "  }\n",
      "  .chip {\n",
      "    background-color: #2c2c2c;\n",
      "    border-color: #3c4043;\n",
      "    color: #fff;\n",
      "    text-decoration: none;\n",
      "  }\n",
      "  .chip:hover {\n",
      "    background-color: #353536;\n",
      "  }\n",
      "  .chip:focus {\n",
      "    background-color: #353536;\n",
      "  }\n",
      "  .chip:active {\n",
      "    background-color: #464849;\n",
      "    border-color: #53575b;\n",
      "  }\n",
      "  .logo-light {\n",
      "    display: none;\n",
      "  }\n",
      "  .gradient {\n",
      "    background: linear-gradient(90deg, #1f1f1f 15%, #1f1f1f00 100%);\n",
      "  }\n",
      "}\n",
      "</style>\n",
      "<div class=\"container\">\n",
      "  <div class=\"headline\">\n",
      "    <svg class=\"logo-light\" width=\"18\" height=\"18\" viewBox=\"9 9 35 35\" fill=\"none\" xmlns=\"http://www.w3.org/2000/svg\">\n",
      "      <path fill-rule=\"evenodd\" clip-rule=\"evenodd\" d=\"M42.8622 27.0064C42.8622 25.7839 42.7525 24.6084 42.5487 23.4799H26.3109V30.1568H35.5897C35.1821 32.3041 33.9596 34.1222 32.1258 35.3448V39.6864H37.7213C40.9814 36.677 42.8622 32.2571 42.8622 27.0064V27.0064Z\" fill=\"#4285F4\"/>\n",
      "      <path fill-rule=\"evenodd\" clip-rule=\"evenodd\" d=\"M26.3109 43.8555C30.9659 43.8555 34.8687 42.3195 37.7213 39.6863L32.1258 35.3447C30.5898 36.3792 28.6306 37.0061 26.3109 37.0061C21.8282 37.0061 18.0195 33.9811 16.6559 29.906H10.9194V34.3573C13.7563 39.9841 19.5712 43.8555 26.3109 43.8555V43.8555Z\" fill=\"#34A853\"/>\n",
      "      <path fill-rule=\"evenodd\" clip-rule=\"evenodd\" d=\"M16.6559 29.8904C16.3111 28.8559 16.1074 27.7588 16.1074 26.6146C16.1074 25.4704 16.3111 24.3733 16.6559 23.3388V18.8875H10.9194C9.74388 21.2072 9.06992 23.8247 9.06992 26.6146C9.06992 29.4045 9.74388 32.022 10.9194 34.3417L15.3864 30.8621L16.6559 29.8904V29.8904Z\" fill=\"#FBBC05\"/>\n",
      "      <path fill-rule=\"evenodd\" clip-rule=\"evenodd\" d=\"M26.3109 16.2386C28.85 16.2386 31.107 17.1164 32.9095 18.8091L37.8466 13.8719C34.853 11.082 30.9659 9.3736 26.3109 9.3736C19.5712 9.3736 13.7563 13.245 10.9194 18.8875L16.6559 23.3388C18.0195 19.2636 21.8282 16.2386 26.3109 16.2386V16.2386Z\" fill=\"#EA4335\"/>\n",
      "    </svg>\n",
      "    <svg class=\"logo-dark\" width=\"18\" height=\"18\" viewBox=\"0 0 48 48\" xmlns=\"http://www.w3.org/2000/svg\">\n",
      "      <circle cx=\"24\" cy=\"23\" fill=\"#FFF\" r=\"22\"/>\n",
      "      <path d=\"M33.76 34.26c2.75-2.56 4.49-6.37 4.49-11.26 0-.89-.08-1.84-.29-3H24.01v5.99h8.03c-.4 2.02-1.5 3.56-3.07 4.56v.75l3.91 2.97h.88z\" fill=\"#4285F4\"/>\n",
      "      <path d=\"M15.58 25.77A8.845 8.845 0 0 0 24 31.86c1.92 0 3.62-.46 4.97-1.31l4.79 3.71C31.14 36.7 27.65 38 24 38c-5.93 0-11.01-3.4-13.45-8.36l.17-1.01 4.06-2.85h.8z\" fill=\"#34A853\"/>\n",
      "      <path d=\"M15.59 20.21a8.864 8.864 0 0 0 0 5.58l-5.03 3.86c-.98-2-1.53-4.25-1.53-6.64 0-2.39.55-4.64 1.53-6.64l1-.22 3.81 2.98.22 1.08z\" fill=\"#FBBC05\"/>\n",
      "      <path d=\"M24 14.14c2.11 0 4.02.75 5.52 1.98l4.36-4.36C31.22 9.43 27.81 8 24 8c-5.93 0-11.01 3.4-13.45 8.36l5.03 3.85A8.86 8.86 0 0 1 24 14.14z\" fill=\"#EA4335\"/>\n",
      "    </svg>\n",
      "    <div class=\"gradient-container\"><div class=\"gradient\"></div></div>\n",
      "  </div>\n",
      "  <div class=\"carousel\">\n",
      "    <a class=\"chip\" href=\"https://vertexaisearch.cloud.google.com/grounding-api-redirect/AUZIYQH7ZCOApze86h_r-7Y5BcDKIPyZyiQLFzcCfd4KFMLs2jzbF--p81g2qGmWWyzGrMLQA8S6LqA94Ul09nIpXAV_z3xbuWZisk714utFbMPleZzEMA9dKfI-5tXaNAto8rAEUX0qiKJtYIWEDvG3HIyn3G21T-rMmeZ4g21v0mjWnOrlRDksQZEcbnmCNyIQzjniU1lAZad3mdLRvRmj07QqEi8=\">next total solar eclipse Europe</a>\n",
      "    <a class=\"chip\" href=\"https://vertexaisearch.cloud.google.com/grounding-api-redirect/AUZIYQENl5QTl_Mey0RaGVwXZRm5MIuWWkvl_P-0HNOKDxSdhDR5k35c9_VAcN5-kftPGwbAXhTWaB5QfTfBbZPJnDwVbzYEkIEACQXd8fLOKALm4FVd4Mz5q0uTSqrqyRe00mWFrool-J3uJ4kaJ3sWMuwHeVqjHpew0TZXOSKUqEmMd1tdwRh4r-iqN3_WiW30sqHVAuKYbo_P4B7qmwHCaL4bcR8=\">total solar eclipse Switzerland</a>\n",
      "  </div>\n",
      "</div>\n",
      "\n"
     ]
    }
   ],
   "source": [
    "### google search ###\n",
    "from google.genai.types import Tool, GenerateContentConfig, GoogleSearch\n",
    "\n",
    "model_id = \"gemini-2.5-flash\"\n",
    "\n",
    "google_search_tool = Tool(\n",
    "    google_search = GoogleSearch()\n",
    ")\n",
    "\n",
    "response = client.models.generate_content(\n",
    "    model=model_id,\n",
    "    contents=\"When is the next total solar eclipse in switzerland?\",\n",
    "    config=GenerateContentConfig(\n",
    "        tools=[google_search_tool],\n",
    "        response_modalities=[\"TEXT\"],\n",
    "    )\n",
    ")\n",
    "\n",
    "for each in response.candidates[0].content.parts:\n",
    "    print(each.text)\n",
    "# Example response:\n",
    "# The next total solar eclipse visible in the contiguous United States will be on ...\n",
    "\n",
    "# To get grounding metadata as web content.\n",
    "print(response.candidates[0].grounding_metadata.search_entry_point.rendered_content)"
   ]
  },
  {
   "cell_type": "code",
   "execution_count": null,
   "id": "2fdb90cc-fe2b-410c-abd0-fdb07fe501e4",
   "metadata": {},
   "outputs": [],
   "source": []
  }
 ],
 "metadata": {
  "kernelspec": {
   "display_name": "Python (newenv)",
   "language": "python",
   "name": "newenv"
  },
  "language_info": {
   "codemirror_mode": {
    "name": "ipython",
    "version": 3
   },
   "file_extension": ".py",
   "mimetype": "text/x-python",
   "name": "python",
   "nbconvert_exporter": "python",
   "pygments_lexer": "ipython3",
   "version": "3.10.18"
  }
 },
 "nbformat": 4,
 "nbformat_minor": 5
}
